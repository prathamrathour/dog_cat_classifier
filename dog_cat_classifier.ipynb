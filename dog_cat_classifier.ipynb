{
 "cells": [
  {
   "cell_type": "code",
   "execution_count": 1,
   "metadata": {},
   "outputs": [
    {
     "name": "stderr",
     "output_type": "stream",
     "text": [
      "Using TensorFlow backend.\n"
     ]
    }
   ],
   "source": [
    "import tensorflow as tf\n",
    "from keras.preprocessing.image import ImageDataGenerator"
   ]
  },
  {
   "cell_type": "code",
   "execution_count": 2,
   "metadata": {},
   "outputs": [
    {
     "data": {
      "text/plain": [
       "'2.1.0'"
      ]
     },
     "execution_count": 2,
     "metadata": {},
     "output_type": "execute_result"
    }
   ],
   "source": [
    "tf.__version__"
   ]
  },
  {
   "cell_type": "code",
   "execution_count": 3,
   "metadata": {},
   "outputs": [
    {
     "name": "stdout",
     "output_type": "stream",
     "text": [
      "Found 8000 images belonging to 2 classes.\n"
     ]
    }
   ],
   "source": [
    "train_datagen = ImageDataGenerator(rescale=1./255,shear_range=0.2,zoom_range=0.2,horizontal_flip=True)\n",
    "training_set = train_datagen.flow_from_directory('dataset/training_set',target_size=(64,64),batch_size=32,class_mode='binary')"
   ]
  },
  {
   "cell_type": "code",
   "execution_count": 4,
   "metadata": {},
   "outputs": [
    {
     "name": "stdout",
     "output_type": "stream",
     "text": [
      "Found 2000 images belonging to 2 classes.\n"
     ]
    }
   ],
   "source": [
    "test_datagen = ImageDataGenerator(rescale=1./255)\n",
    "test_set = test_datagen.flow_from_directory('dataset/test_set',target_size=(64,64),batch_size=32,class_mode='binary')"
   ]
  },
  {
   "cell_type": "code",
   "execution_count": 5,
   "metadata": {},
   "outputs": [],
   "source": [
    "cnn = tf.keras.models.Sequential()"
   ]
  },
  {
   "cell_type": "code",
   "execution_count": 6,
   "metadata": {},
   "outputs": [],
   "source": [
    "cnn.add(tf.keras.layers.Conv2D(filters=32,kernel_size=3,activation='relu',input_shape=[64,64,3]))"
   ]
  },
  {
   "cell_type": "code",
   "execution_count": 7,
   "metadata": {},
   "outputs": [],
   "source": [
    "cnn.add(tf.keras.layers.MaxPool2D(pool_size=2,strides=2))"
   ]
  },
  {
   "cell_type": "code",
   "execution_count": 8,
   "metadata": {},
   "outputs": [],
   "source": [
    "cnn.add(tf.keras.layers.Conv2D(filters=32,kernel_size=3,activation='relu'))\n",
    "cnn.add(tf.keras.layers.MaxPool2D(pool_size=2,strides=2))"
   ]
  },
  {
   "cell_type": "code",
   "execution_count": 9,
   "metadata": {},
   "outputs": [],
   "source": [
    "cnn.add(tf.keras.layers.Flatten())"
   ]
  },
  {
   "cell_type": "code",
   "execution_count": 10,
   "metadata": {},
   "outputs": [],
   "source": [
    "cnn.add(tf.keras.layers.Dense(units=128,activation='relu'))"
   ]
  },
  {
   "cell_type": "code",
   "execution_count": 11,
   "metadata": {},
   "outputs": [],
   "source": [
    "cnn.add(tf.keras.layers.Dense(units=1,activation='sigmoid'))"
   ]
  },
  {
   "cell_type": "code",
   "execution_count": 12,
   "metadata": {},
   "outputs": [],
   "source": [
    "cnn.compile(optimizer= 'adam',loss='binary_crossentropy',metrics=['accuracy'])"
   ]
  },
  {
   "cell_type": "code",
   "execution_count": 13,
   "metadata": {},
   "outputs": [
    {
     "name": "stdout",
     "output_type": "stream",
     "text": [
      "WARNING:tensorflow:sample_weight modes were coerced from\n",
      "  ...\n",
      "    to  \n",
      "  ['...']\n",
      "WARNING:tensorflow:sample_weight modes were coerced from\n",
      "  ...\n",
      "    to  \n",
      "  ['...']\n",
      "Train for 250 steps, validate for 63 steps\n",
      "Epoch 1/30\n",
      "250/250 [==============================] - 105s 419ms/step - loss: 0.6526 - accuracy: 0.6164 - val_loss: 0.5948 - val_accuracy: 0.6845\n",
      "Epoch 2/30\n",
      "250/250 [==============================] - 64s 255ms/step - loss: 0.5925 - accuracy: 0.6869 - val_loss: 0.6047 - val_accuracy: 0.6785\n",
      "Epoch 3/30\n",
      "250/250 [==============================] - 62s 250ms/step - loss: 0.5510 - accuracy: 0.7216 - val_loss: 0.5267 - val_accuracy: 0.7375\n",
      "Epoch 4/30\n",
      "250/250 [==============================] - 67s 266ms/step - loss: 0.5187 - accuracy: 0.7448 - val_loss: 0.5020 - val_accuracy: 0.7535\n",
      "Epoch 5/30\n",
      "250/250 [==============================] - 83s 331ms/step - loss: 0.5040 - accuracy: 0.7502 - val_loss: 0.4902 - val_accuracy: 0.7645\n",
      "Epoch 6/30\n",
      "250/250 [==============================] - 78s 311ms/step - loss: 0.4780 - accuracy: 0.7674 - val_loss: 0.5410 - val_accuracy: 0.7570\n",
      "Epoch 7/30\n",
      "250/250 [==============================] - 75s 301ms/step - loss: 0.4631 - accuracy: 0.7738 - val_loss: 0.4881 - val_accuracy: 0.7935\n",
      "Epoch 8/30\n",
      "250/250 [==============================] - 75s 299ms/step - loss: 0.4458 - accuracy: 0.7880 - val_loss: 0.4698 - val_accuracy: 0.7820\n",
      "Epoch 9/30\n",
      "250/250 [==============================] - 102s 408ms/step - loss: 0.4333 - accuracy: 0.7939 - val_loss: 0.4553 - val_accuracy: 0.7930\n",
      "Epoch 10/30\n",
      "250/250 [==============================] - 93s 374ms/step - loss: 0.4247 - accuracy: 0.7993 - val_loss: 0.4704 - val_accuracy: 0.7935\n",
      "Epoch 11/30\n",
      "250/250 [==============================] - 76s 302ms/step - loss: 0.4022 - accuracy: 0.8141 - val_loss: 0.4571 - val_accuracy: 0.7855\n",
      "Epoch 12/30\n",
      "250/250 [==============================] - 75s 300ms/step - loss: 0.3897 - accuracy: 0.8174 - val_loss: 0.4988 - val_accuracy: 0.7730\n",
      "Epoch 13/30\n",
      "250/250 [==============================] - 97s 386ms/step - loss: 0.3737 - accuracy: 0.8290 - val_loss: 0.4598 - val_accuracy: 0.7970\n",
      "Epoch 14/30\n",
      "250/250 [==============================] - 74s 296ms/step - loss: 0.3702 - accuracy: 0.8316 - val_loss: 0.4771 - val_accuracy: 0.7875\n",
      "Epoch 15/30\n",
      "250/250 [==============================] - 82s 327ms/step - loss: 0.3553 - accuracy: 0.8446 - val_loss: 0.4574 - val_accuracy: 0.7965\n",
      "Epoch 16/30\n",
      "250/250 [==============================] - 83s 333ms/step - loss: 0.3410 - accuracy: 0.8416 - val_loss: 0.5120 - val_accuracy: 0.7815\n",
      "Epoch 17/30\n",
      "250/250 [==============================] - 84s 335ms/step - loss: 0.3264 - accuracy: 0.8599 - val_loss: 0.4625 - val_accuracy: 0.8000\n",
      "Epoch 18/30\n",
      "250/250 [==============================] - 85s 338ms/step - loss: 0.3159 - accuracy: 0.8640 - val_loss: 0.6250 - val_accuracy: 0.7575\n",
      "Epoch 19/30\n",
      "250/250 [==============================] - 84s 335ms/step - loss: 0.2961 - accuracy: 0.8711 - val_loss: 0.5293 - val_accuracy: 0.7945\n",
      "Epoch 20/30\n",
      "250/250 [==============================] - 82s 328ms/step - loss: 0.2920 - accuracy: 0.8751 - val_loss: 0.4761 - val_accuracy: 0.8035\n",
      "Epoch 21/30\n",
      "250/250 [==============================] - 84s 337ms/step - loss: 0.2846 - accuracy: 0.8777 - val_loss: 0.5305 - val_accuracy: 0.8030\n",
      "Epoch 22/30\n",
      "250/250 [==============================] - 87s 348ms/step - loss: 0.2626 - accuracy: 0.8899 - val_loss: 0.5097 - val_accuracy: 0.8105\n",
      "Epoch 23/30\n",
      "250/250 [==============================] - 84s 338ms/step - loss: 0.2576 - accuracy: 0.8951 - val_loss: 0.4926 - val_accuracy: 0.8000\n",
      "Epoch 24/30\n",
      "250/250 [==============================] - 84s 334ms/step - loss: 0.2481 - accuracy: 0.8990 - val_loss: 0.4882 - val_accuracy: 0.8050\n",
      "Epoch 25/30\n",
      "250/250 [==============================] - 84s 334ms/step - loss: 0.2382 - accuracy: 0.9036 - val_loss: 0.5393 - val_accuracy: 0.7885\n",
      "Epoch 26/30\n",
      "250/250 [==============================] - 83s 334ms/step - loss: 0.2244 - accuracy: 0.9114 - val_loss: 0.6477 - val_accuracy: 0.7665\n",
      "Epoch 27/30\n",
      "250/250 [==============================] - 84s 335ms/step - loss: 0.2112 - accuracy: 0.9109 - val_loss: 0.5553 - val_accuracy: 0.8105\n",
      "Epoch 28/30\n",
      "250/250 [==============================] - 84s 335ms/step - loss: 0.2031 - accuracy: 0.9172 - val_loss: 0.5540 - val_accuracy: 0.8100\n",
      "Epoch 29/30\n",
      "250/250 [==============================] - 84s 336ms/step - loss: 0.1885 - accuracy: 0.9220 - val_loss: 0.5743 - val_accuracy: 0.8000\n",
      "Epoch 30/30\n",
      "250/250 [==============================] - 84s 335ms/step - loss: 0.1850 - accuracy: 0.9260 - val_loss: 0.6217 - val_accuracy: 0.8070\n"
     ]
    },
    {
     "data": {
      "text/plain": [
       "<tensorflow.python.keras.callbacks.History at 0x1dba4118e08>"
      ]
     },
     "execution_count": 13,
     "metadata": {},
     "output_type": "execute_result"
    }
   ],
   "source": [
    "cnn.fit(x = training_set, validation_data = test_set, epochs = 30)"
   ]
  },
  {
   "cell_type": "code",
   "execution_count": 14,
   "metadata": {},
   "outputs": [],
   "source": [
    "import numpy as np\n",
    "from keras.preprocessing import image\n",
    "test_image = image.load_img('try.jpg', target_size = (64, 64))\n",
    "test_image = image.img_to_array(test_image)\n",
    "test_image = np.expand_dims(test_image, axis = 0)\n",
    "result = cnn.predict(test_image)\n",
    "training_set.class_indices\n",
    "if result[0][0] == 1:\n",
    "  prediction = 'dog'\n",
    "else:\n",
    "  prediction = 'cat'"
   ]
  },
  {
   "cell_type": "code",
   "execution_count": 15,
   "metadata": {},
   "outputs": [
    {
     "name": "stdout",
     "output_type": "stream",
     "text": [
      "dog\n"
     ]
    }
   ],
   "source": [
    "print(prediction)"
   ]
  },
  {
   "cell_type": "code",
   "execution_count": null,
   "metadata": {},
   "outputs": [],
   "source": []
  }
 ],
 "metadata": {
  "kernelspec": {
   "display_name": "Python 3",
   "language": "python",
   "name": "python3"
  },
  "language_info": {
   "codemirror_mode": {
    "name": "ipython",
    "version": 3
   },
   "file_extension": ".py",
   "mimetype": "text/x-python",
   "name": "python",
   "nbconvert_exporter": "python",
   "pygments_lexer": "ipython3",
   "version": "3.7.9"
  }
 },
 "nbformat": 4,
 "nbformat_minor": 4
}
